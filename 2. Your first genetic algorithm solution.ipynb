{
 "cells": [
  {
   "cell_type": "markdown",
   "metadata": {},
   "source": [
    "# Your first genetic algorithm\n",
    "\n",
    "Now that you understand the building block of a neural network, we will create one based on genetic evolution.<br>\n",
    "You will first need to install the gym_snake from seanbae.<br><br>\n",
    "\n",
    "<center><b><a href=\"https://github.com/nicomon24/Sneks\" target=\"_blank\">https://github.com/nicomon24/Sneks</a></b></center><br><br>\n",
    "To install the library, run the following cell (this may take a few minutes)"
   ]
  },
  {
   "cell_type": "code",
   "execution_count": 1,
   "metadata": {
    "scrolled": true
   },
   "outputs": [
    {
     "name": "stderr",
     "output_type": "stream",
     "text": [
      "Cloning into 'Sneks'...\n"
     ]
    },
    {
     "name": "stdout",
     "output_type": "stream",
     "text": [
      "Obtaining file:///D:/git/all-ml/Sneks\n",
      "Requirement already satisfied: gym in c:\\users\\alexandre\\appdata\\local\\programs\\python\\python36\\lib\\site-packages (from sneks==0.0.1) (0.12.1)\n",
      "Requirement already satisfied: numpy in c:\\users\\alexandre\\appdata\\local\\programs\\python\\python36\\lib\\site-packages (from sneks==0.0.1) (1.16.2)\n",
      "Requirement already satisfied: opencv-python in c:\\users\\alexandre\\appdata\\local\\programs\\python\\python36\\lib\\site-packages (from sneks==0.0.1) (3.4.2.17)\n",
      "Requirement already satisfied: scipy in c:\\users\\alexandre\\appdata\\local\\programs\\python\\python36\\lib\\site-packages (from gym->sneks==0.0.1) (1.1.0)\n",
      "Requirement already satisfied: six in c:\\users\\alexandre\\appdata\\local\\programs\\python\\python36\\lib\\site-packages (from gym->sneks==0.0.1) (1.11.0)\n",
      "Requirement already satisfied: pyglet>=1.2.0 in c:\\users\\alexandre\\appdata\\local\\programs\\python\\python36\\lib\\site-packages (from gym->sneks==0.0.1) (1.3.2)\n",
      "Requirement already satisfied: requests>=2.0 in c:\\users\\alexandre\\appdata\\local\\programs\\python\\python36\\lib\\site-packages (from gym->sneks==0.0.1) (2.19.1)\n",
      "Requirement already satisfied: future in c:\\users\\alexandre\\appdata\\local\\programs\\python\\python36\\lib\\site-packages (from pyglet>=1.2.0->gym->sneks==0.0.1) (0.16.0)\n",
      "Requirement already satisfied: certifi>=2017.4.17 in c:\\users\\alexandre\\appdata\\local\\programs\\python\\python36\\lib\\site-packages (from requests>=2.0->gym->sneks==0.0.1) (2018.8.24)\n",
      "Requirement already satisfied: chardet<3.1.0,>=3.0.2 in c:\\users\\alexandre\\appdata\\local\\programs\\python\\python36\\lib\\site-packages (from requests>=2.0->gym->sneks==0.0.1) (3.0.4)\n",
      "Requirement already satisfied: idna<2.8,>=2.5 in c:\\users\\alexandre\\appdata\\local\\programs\\python\\python36\\lib\\site-packages (from requests>=2.0->gym->sneks==0.0.1) (2.7)\n",
      "Requirement already satisfied: urllib3<1.24,>=1.21.1 in c:\\users\\alexandre\\appdata\\local\\programs\\python\\python36\\lib\\site-packages (from requests>=2.0->gym->sneks==0.0.1) (1.23)\n",
      "Installing collected packages: sneks\n",
      "  Found existing installation: sneks 0.0.1\n",
      "    Uninstalling sneks-0.0.1:\n",
      "      Successfully uninstalled sneks-0.0.1\n",
      "  Running setup.py develop for sneks\n",
      "Successfully installed sneks\n"
     ]
    },
    {
     "name": "stderr",
     "output_type": "stream",
     "text": [
      "c:\\users\\alexandre\\appdata\\local\\programs\\python\\python36\\lib\\site-packages\\pip\\_internal\\req\\req_install.py:391: UserWarning: Unbuilt egg for Unknown [unknown version] (c:\\users\\alexandre\\appdata\\local\\programs\\python\\python36\\lib\\site-packages)\n",
      "  self.satisfied_by = pkg_resources.get_distribution(str(no_marker))\n"
     ]
    }
   ],
   "source": [
    "!git clone https://github.com/nicomon24/Sneks\n",
    "!pip install -e ./Sneks"
   ]
  },
  {
   "cell_type": "markdown",
   "metadata": {},
   "source": [
    "If you are running on windows, execute this cell to complete the installation:"
   ]
  },
  {
   "cell_type": "code",
   "execution_count": 2,
   "metadata": {},
   "outputs": [
    {
     "name": "stdout",
     "output_type": "stream",
     "text": [
      "        1 r‚pertoires d‚plac‚s.\n",
      "        1 r‚pertoires d‚plac‚s.\n"
     ]
    }
   ],
   "source": [
    "!move ./Sneks/sneks ./snek\n",
    "!rd /s /q Sneks\n",
    "!move ./snek ./sneks"
   ]
  },
  {
   "cell_type": "markdown",
   "metadata": {},
   "source": [
    "Linux lovers, here is yours:"
   ]
  },
  {
   "cell_type": "markdown",
   "metadata": {},
   "source": [
    "!mv ./Sneks/sneks ./snek\n",
    "!rm -rf gym-snake\n",
    "!mv ./snek ./sneks"
   ]
  },
  {
   "cell_type": "markdown",
   "metadata": {},
   "source": [
    "# Basics of gym\n",
    "\n",
    "Now that we have the environment ready to be used, we will focus on how this works.\n",
    "Let's import the newly set environment."
   ]
  },
  {
   "cell_type": "code",
   "execution_count": 3,
   "metadata": {},
   "outputs": [],
   "source": [
    "import gym #Import gym library from OpenAI\n",
    "import sneks\n",
    "\n",
    "env = gym.make('babysnek-raw-16-v1') #Create the environment."
   ]
  },
  {
   "cell_type": "markdown",
   "metadata": {},
   "source": [
    "If the above cell did not execute correctly, please check you correctly have correctly have the sneks folder in the same directory of the notebook. It should be without any caps!\n",
    "\n",
    "<center><img src=\"ipynb_images/install_snake.jpg\"></img></center><br>"
   ]
  },
  {
   "cell_type": "markdown",
   "metadata": {},
   "source": [
    "Ok. Now that your installation works and we created the environment, let's see how it works..."
   ]
  },
  {
   "cell_type": "code",
   "execution_count": 4,
   "metadata": {},
   "outputs": [],
   "source": [
    "env.reset(); #This function is to call before each \"game\" your neural network will run.\n",
    "#This will restart the game.\n",
    "#The function returns a matrice of the observation state. I'll get back to this later."
   ]
  },
  {
   "cell_type": "code",
   "execution_count": 5,
   "metadata": {},
   "outputs": [],
   "source": [
    "env.render(); #This function is used to render a visual representation of what's going on in the game.\n",
    "#You should see a window opening. If it freezes, it's normal. Don't panic!"
   ]
  },
  {
   "cell_type": "markdown",
   "metadata": {},
   "source": [
    "Generally, the <i>env.render()</i> function is called when you want to see what your neural network does.<br>\n",
    "However, you will see we will that most of the time we will not use this function.<br>\n",
    "We want to train an agent and train it fast. Rendering is done at the same time the game is played, which reduces a lot the time performance!<br><br><br>\n",
    "Now that we have started the environment we will play random actions to display how things work.<br>If you were in Mario, this action could be \"move right, move left, jump...\". Here, it is the movement of the snake we want to see."
   ]
  },
  {
   "cell_type": "code",
   "execution_count": 6,
   "metadata": {},
   "outputs": [
    {
     "data": {
      "text/plain": [
       "Discrete(4)"
      ]
     },
     "execution_count": 6,
     "metadata": {},
     "output_type": "execute_result"
    }
   ],
   "source": [
    "env.action_space #Shows what is the structure of the expected input"
   ]
  },
  {
   "cell_type": "markdown",
   "metadata": {},
   "source": [
    "The action_space is part of our environment. It describe here that we can give 4 different actions : 0, 1, 2 and 3.<br><br>\n",
    "The environment is said <b><u>discrete</u></b> which means you can only select integer number.<br>\n",
    "Discrete is opposed to <b><u>continuous</u></b>, which represents continuous variable.<br><br>\n",
    "A discrete variable could be the face of a dice, it can only be 1, 2, 3, 4, 5 or 6.<br>But if you think of the weight of your dog, you would have something like 17,841Kg.<br>\n",
    "Your dog don't come from 17Kg to 18Kg as a \"jump\". His weights <u>continuously</u> grows from 17 to 18. This is a continuous variable!"
   ]
  },
  {
   "cell_type": "code",
   "execution_count": 7,
   "metadata": {},
   "outputs": [
    {
     "data": {
      "text/plain": [
       "0"
      ]
     },
     "execution_count": 7,
     "metadata": {},
     "output_type": "execute_result"
    }
   ],
   "source": [
    "env.action_space.sample() #Calls a random possible movement of the snake, an integer between 0 and 4."
   ]
  },
  {
   "cell_type": "markdown",
   "metadata": {},
   "source": [
    "Now that we know what to send to the environment, we want our movement to be taken into consideration. For this, we will call the **env.step()** function.<br>\n",
    "It returns the following information:<br>\n",
    "- <u>Observation:</u> This is how the environment looks after your action. It allows you to track the movement of your snake. The observation is given when you execute a step and when you call *env.reset()*\n",
    "- <u>reward:</u> The reward acquired in the last action. Did your snake eat the red dot ? If yes, this is a reward.\n",
    "- <u>done:</u> Can you still play ? If your snake ate his tail or ran in the cliff... your game is finished. This is shown by a done set to True.\n",
    "- <u>info:</u> Any additionnal information given by the environment."
   ]
  },
  {
   "cell_type": "code",
   "execution_count": 8,
   "metadata": {},
   "outputs": [
    {
     "data": {
      "text/plain": [
       "(array([[  0.,   0.,   0.,   0.,   0.,   0.,   0.,   0.,   0.,   0.,   0.,\n",
       "           0.,   0.,   0.,   0.,   0.],\n",
       "        [  0.,   0.,   0.,   0.,   0.,   0.,   0.,   0.,   0.,   0.,   0.,\n",
       "           0.,   0.,   0.,   0.,   0.],\n",
       "        [  0.,   0.,   0.,   0.,   0.,   0.,   0.,   0.,   0.,   0.,   0.,\n",
       "           0.,   0.,   0.,   0.,   0.],\n",
       "        [  0.,   0.,   0.,   0.,   0.,   0.,   0.,   0.,   0.,   0.,   0.,\n",
       "           0.,   0.,   0.,   0.,   0.],\n",
       "        [  0.,   0.,   0.,   0.,   0.,   0.,   0.,   0.,   0.,   0.,   0.,\n",
       "           0., 101.,   0.,   0.,   0.],\n",
       "        [  0.,   0.,   0.,   0.,   0.,   0.,   0.,   0.,   0.,   0., 100.,\n",
       "         100., 100.,   0.,   0.,   0.],\n",
       "        [  0.,   0.,   0.,   0.,   0.,   0.,   0.,   0.,   0.,   0.,   0.,\n",
       "           0.,   0.,   0.,   0.,   0.],\n",
       "        [  0.,   0.,   0.,   0.,   0.,   0.,   0.,   0.,   0.,   0.,   0.,\n",
       "           0.,   0.,   0.,   0.,   0.],\n",
       "        [  0.,   0.,   0.,   0.,   0.,   0.,   0.,   0.,   0.,   0.,   0.,\n",
       "           0.,   0.,   0.,   0.,   0.],\n",
       "        [  0.,   0.,   0.,   0.,   0.,   0.,   0.,   0.,   0.,   0.,   0.,\n",
       "           0.,   0.,   0.,   0.,   0.],\n",
       "        [  0.,   0.,   0.,   0.,   0., 255.,   0.,   0.,   0.,   0.,   0.,\n",
       "           0.,   0.,   0.,   0.,   0.],\n",
       "        [  0.,   0.,   0.,   0.,   0.,   0.,   0.,   0.,   0.,   0.,   0.,\n",
       "           0.,   0.,   0.,   0.,   0.],\n",
       "        [  0.,   0.,   0.,   0.,   0.,   0.,   0.,   0.,   0.,   0.,   0.,\n",
       "           0.,   0.,   0.,   0.,   0.],\n",
       "        [  0.,   0.,   0.,   0.,   0.,   0.,   0.,   0.,   0.,   0.,   0.,\n",
       "           0.,   0.,   0.,   0.,   0.],\n",
       "        [  0.,   0.,   0.,   0.,   0.,   0.,   0.,   0.,   0.,   0.,   0.,\n",
       "           0.,   0.,   0.,   0.,   0.],\n",
       "        [  0.,   0.,   0.,   0.,   0.,   0.,   0.,   0.,   0.,   0.,   0.,\n",
       "           0.,   0.,   0.,   0.,   0.]]), 0, False, {})"
      ]
     },
     "execution_count": 8,
     "metadata": {},
     "output_type": "execute_result"
    }
   ],
   "source": [
    "env.step(env.action_space.sample())"
   ]
  },
  {
   "cell_type": "markdown",
   "metadata": {},
   "source": [
    "If you look at your opened window, you will see the black point did not move. It is because we need to call the env.render() to get an update."
   ]
  },
  {
   "cell_type": "code",
   "execution_count": 9,
   "metadata": {},
   "outputs": [
    {
     "name": "stdout",
     "output_type": "stream",
     "text": [
      "(array([[  0.,   0.,   0.,   0.,   0.,   0.,   0.,   0.,   0.,   0.,   0.,\n",
      "          0.,   0.,   0.,   0.,   0.],\n",
      "       [  0.,   0.,   0.,   0.,   0.,   0.,   0.,   0.,   0.,   0.,   0.,\n",
      "          0.,   0.,   0.,   0.,   0.],\n",
      "       [  0.,   0.,   0.,   0.,   0.,   0.,   0.,   0.,   0.,   0.,   0.,\n",
      "          0.,   0.,   0.,   0.,   0.],\n",
      "       [  0.,   0.,   0.,   0.,   0.,   0.,   0.,   0.,   0.,   0.,   0.,\n",
      "          0.,   0.,   0.,   0.,   0.],\n",
      "       [  0.,   0.,   0.,   0.,   0.,   0.,   0.,   0.,   0.,   0.,   0.,\n",
      "          0.,   0.,   0.,   0.,   0.],\n",
      "       [  0.,   0.,   0.,   0.,   0.,   0.,   0.,   0.,   0.,   0.,   0.,\n",
      "          0.,   0.,   0.,   0.,   0.],\n",
      "       [  0.,   0.,   0.,   0.,   0.,   0.,   0.,   0.,   0.,   0.,   0.,\n",
      "          0.,   0.,   0.,   0.,   0.],\n",
      "       [  0.,   0.,   0.,   0.,   0.,   0.,   0.,   0.,   0.,   0.,   0.,\n",
      "          0.,   0.,   0.,   0.,   0.],\n",
      "       [  0.,   0.,   0.,   0.,   0.,   0.,   0.,   0.,   0.,   0.,   0.,\n",
      "          0.,   0.,   0.,   0.,   0.],\n",
      "       [  0.,   0.,   0.,   0.,   0.,   0.,   0.,   0.,   0.,   0.,   0.,\n",
      "          0.,   0.,   0.,   0.,   0.],\n",
      "       [  0.,   0.,   0.,   0.,   0.,   0.,   0.,   0.,   0.,   0.,   0.,\n",
      "        100.,   0.,   0.,   0.,   0.],\n",
      "       [  0.,   0.,   0.,   0.,   0.,   0.,   0.,   0.,   0.,   0.,   0.,\n",
      "        100.,   0.,   0.,   0.,   0.],\n",
      "       [  0.,   0.,   0.,   0.,   0.,   0.,   0.,   0.,   0.,   0.,   0.,\n",
      "        100.,   0.,   0.,   0.,   0.],\n",
      "       [255.,   0.,   0.,   0.,   0.,   0.,   0.,   0.,   0.,   0.,   0.,\n",
      "        101.,   0.,   0.,   0.,   0.],\n",
      "       [  0.,   0.,   0.,   0.,   0.,   0.,   0.,   0.,   0.,   0.,   0.,\n",
      "          0.,   0.,   0.,   0.,   0.],\n",
      "       [  0.,   0.,   0.,   0.,   0.,   0.,   0.,   0.,   0.,   0.,   0.,\n",
      "          0.,   0.,   0.,   0.,   0.]]), 0, False, {})\n"
     ]
    }
   ],
   "source": [
    "env.reset();\n",
    "print(env.step(env.action_space.sample()))\n",
    "env.render();"
   ]
  },
  {
   "cell_type": "markdown",
   "metadata": {},
   "source": [
    "As you can see, the env.step() function returns a full matrice a observation.<br>\n",
    "- 0 means you have nothing on the cell\n",
    "- 255 is the food\n",
    "- 101 is the head of the snake\n",
    "- 100 is the tail of the snake<br><br>"
   ]
  },
  {
   "cell_type": "code",
   "execution_count": 10,
   "metadata": {},
   "outputs": [],
   "source": [
    "#Generally, each 4 values are extracted as follow:\n",
    "observation, reward, done, info = env.step(env.action_space.sample())"
   ]
  },
  {
   "cell_type": "markdown",
   "metadata": {},
   "source": [
    "Exercice : using the environment, create a code to that reaches the apple.\n",
    "You may whish to use the logical gates introduces during previous <a href=\"https://www.youtube.com/watch?v=XJu-ZzE3sUo\">video</a>."
   ]
  },
  {
   "cell_type": "code",
   "execution_count": null,
   "metadata": {},
   "outputs": [],
   "source": [
    "#TODO"
   ]
  },
  {
   "cell_type": "markdown",
   "metadata": {},
   "source": [
    "Now that we understand how Gym works we will start working on the neural network."
   ]
  }
 ],
 "metadata": {
  "kernelspec": {
   "display_name": "Python 3",
   "language": "python",
   "name": "python3"
  },
  "language_info": {
   "codemirror_mode": {
    "name": "ipython",
    "version": 3
   },
   "file_extension": ".py",
   "mimetype": "text/x-python",
   "name": "python",
   "nbconvert_exporter": "python",
   "pygments_lexer": "ipython3",
   "version": "3.6.8"
  }
 },
 "nbformat": 4,
 "nbformat_minor": 2
}
