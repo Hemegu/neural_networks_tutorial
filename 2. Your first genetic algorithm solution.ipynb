{
 "cells": [
  {
   "cell_type": "markdown",
   "metadata": {},
   "source": [
    "# Your first genetic algorithm\n",
    "\n",
    "Now that you understand the building block of a neural network, we will create one based on genetic evolution.<br>\n",
    "You will first need to install the gym_snake from seanbae.<br><br>\n",
    "\n",
    "<center><b><a href=\"https://github.com/nicomon24/Sneks\" target=\"_blank\">https://github.com/nicomon24/Sneks</a></b></center><br><br>\n",
    "To install the library, run the following cell (this may take a few minutes)"
   ]
  },
  {
   "cell_type": "code",
   "execution_count": 1,
   "metadata": {
    "scrolled": true
   },
   "outputs": [
    {
     "name": "stderr",
     "output_type": "stream",
     "text": [
      "Cloning into 'Sneks'...\n"
     ]
    },
    {
     "name": "stdout",
     "output_type": "stream",
     "text": [
      "Obtaining file:///D:/git/all-ml/Sneks\n",
      "Requirement already satisfied: gym in c:\\users\\alexandre\\appdata\\local\\programs\\python\\python36\\lib\\site-packages (from sneks==0.0.1) (0.12.1)\n",
      "Requirement already satisfied: numpy in c:\\users\\alexandre\\appdata\\local\\programs\\python\\python36\\lib\\site-packages (from sneks==0.0.1) (1.16.2)\n",
      "Requirement already satisfied: opencv-python in c:\\users\\alexandre\\appdata\\local\\programs\\python\\python36\\lib\\site-packages (from sneks==0.0.1) (3.4.2.17)\n",
      "Requirement already satisfied: pyglet>=1.2.0 in c:\\users\\alexandre\\appdata\\local\\programs\\python\\python36\\lib\\site-packages (from gym->sneks==0.0.1) (1.3.2)\n",
      "Requirement already satisfied: scipy in c:\\users\\alexandre\\appdata\\local\\programs\\python\\python36\\lib\\site-packages (from gym->sneks==0.0.1) (1.1.0)\n",
      "Requirement already satisfied: six in c:\\users\\alexandre\\appdata\\local\\programs\\python\\python36\\lib\\site-packages (from gym->sneks==0.0.1) (1.11.0)\n",
      "Requirement already satisfied: requests>=2.0 in c:\\users\\alexandre\\appdata\\local\\programs\\python\\python36\\lib\\site-packages (from gym->sneks==0.0.1) (2.19.1)\n",
      "Requirement already satisfied: future in c:\\users\\alexandre\\appdata\\local\\programs\\python\\python36\\lib\\site-packages (from pyglet>=1.2.0->gym->sneks==0.0.1) (0.16.0)\n",
      "Requirement already satisfied: chardet<3.1.0,>=3.0.2 in c:\\users\\alexandre\\appdata\\local\\programs\\python\\python36\\lib\\site-packages (from requests>=2.0->gym->sneks==0.0.1) (3.0.4)\n",
      "Requirement already satisfied: idna<2.8,>=2.5 in c:\\users\\alexandre\\appdata\\local\\programs\\python\\python36\\lib\\site-packages (from requests>=2.0->gym->sneks==0.0.1) (2.7)\n",
      "Requirement already satisfied: urllib3<1.24,>=1.21.1 in c:\\users\\alexandre\\appdata\\local\\programs\\python\\python36\\lib\\site-packages (from requests>=2.0->gym->sneks==0.0.1) (1.23)\n",
      "Requirement already satisfied: certifi>=2017.4.17 in c:\\users\\alexandre\\appdata\\local\\programs\\python\\python36\\lib\\site-packages (from requests>=2.0->gym->sneks==0.0.1) (2018.8.24)\n",
      "Installing collected packages: sneks\n",
      "  Found existing installation: sneks 0.0.1\n",
      "    Uninstalling sneks-0.0.1:\n",
      "      Successfully uninstalled sneks-0.0.1\n",
      "  Running setup.py develop for sneks\n",
      "Successfully installed sneks\n"
     ]
    },
    {
     "name": "stderr",
     "output_type": "stream",
     "text": [
      "c:\\users\\alexandre\\appdata\\local\\programs\\python\\python36\\lib\\site-packages\\pip\\_internal\\req\\req_install.py:391: UserWarning: Unbuilt egg for Unknown [unknown version] (c:\\users\\alexandre\\appdata\\local\\programs\\python\\python36\\lib\\site-packages)\n",
      "  self.satisfied_by = pkg_resources.get_distribution(str(no_marker))\n"
     ]
    }
   ],
   "source": [
    "!git clone https://github.com/nicomon24/Sneks\n",
    "!pip install -e ./Sneks"
   ]
  },
  {
   "cell_type": "markdown",
   "metadata": {},
   "source": [
    "If you are running on windows, execute this cell to complete the installation:"
   ]
  },
  {
   "cell_type": "code",
   "execution_count": 2,
   "metadata": {},
   "outputs": [
    {
     "name": "stdout",
     "output_type": "stream",
     "text": [
      "        1 r‚pertoires d‚plac‚s.\n",
      "        1 r‚pertoires d‚plac‚s.\n"
     ]
    }
   ],
   "source": [
    "!move ./Sneks/sneks ./snek\n",
    "!rd /s /q Sneks\n",
    "!move ./snek ./sneks"
   ]
  },
  {
   "cell_type": "markdown",
   "metadata": {},
   "source": [
    "Linux lovers, here is yours:"
   ]
  },
  {
   "cell_type": "code",
   "execution_count": null,
   "metadata": {},
   "outputs": [],
   "source": [
    "!mv ./Sneks/sneks ./snek\n",
    "!rm -rf gym-snake\n",
    "!move ./snek ./sneks"
   ]
  },
  {
   "cell_type": "markdown",
   "metadata": {},
   "source": [
    "# Basics of gym\n",
    "\n",
    "Now that we have the environment ready to be used, we will focus on how this works.\n",
    "Let's import the newly set environment."
   ]
  },
  {
   "cell_type": "code",
   "execution_count": 3,
   "metadata": {},
   "outputs": [],
   "source": [
    "import gym #Import gym library from OpenAI\n",
    "import sneks\n",
    "\n",
    "env = gym.make('babysnek-raw-16-v1') #Create the environment."
   ]
  },
  {
   "cell_type": "markdown",
   "metadata": {},
   "source": [
    "If the above cell did not execute correctly, please check you correctly have correctly have the sneks folder in the same directory of the notebook. It should be without any caps!\n",
    "\n",
    "<center><img src=\"ipynb_images/install_snake.jpg\"></img></center><br>"
   ]
  },
  {
   "cell_type": "markdown",
   "metadata": {},
   "source": [
    "Ok. Now that your installation works and we created the environment, let's see how it works..."
   ]
  },
  {
   "cell_type": "code",
   "execution_count": 4,
   "metadata": {},
   "outputs": [],
   "source": [
    "env.reset(); #This function is to call before each \"game\" your neural network will run.\n",
    "#This will restart the game.\n",
    "#The function returns a matrice of the observation state. I'll get back to this later."
   ]
  },
  {
   "cell_type": "code",
   "execution_count": 5,
   "metadata": {},
   "outputs": [],
   "source": [
    "env.render(); #This function is used to render a visual representation of what's going on in the game.\n",
    "#You should see a window opening. If it freezes, it's normal. Don't panic!"
   ]
  },
  {
   "cell_type": "markdown",
   "metadata": {},
   "source": [
    "Generally, the <i>env.render()</i> function is called when you want to see what your neural network does.<br>\n",
    "However, you will see we will that most of the time we will not use this function.<br>\n",
    "We want to train an agent and train it fast. Rendering is done at the same time the game is played, which reduces a lot the time performance!<br><br><br>\n",
    "Now that we have started the environment we will play random actions to display how things work.<br>If you were in Mario, this action could be \"move right, move left, jump...\". Here, it is the movement of the snake we want to see."
   ]
  },
  {
   "cell_type": "code",
   "execution_count": 6,
   "metadata": {},
   "outputs": [
    {
     "data": {
      "text/plain": [
       "Discrete(4)"
      ]
     },
     "execution_count": 6,
     "metadata": {},
     "output_type": "execute_result"
    }
   ],
   "source": [
    "env.action_space #Shows what is the structure of the expected input"
   ]
  },
  {
   "cell_type": "markdown",
   "metadata": {},
   "source": [
    "The action_space is part of our environment. It describe here that we can give 4 different actions : 0, 1, 2 and 3.<br><br>\n",
    "The environment is said <b><u>discrete</u></b> which means you can only select integer number.<br>\n",
    "Discrete is opposed to <b><u>continuous</u></b>, which represents continuous variable.<br><br>\n",
    "A discrete variable could be the face of a dice, it can only be 1, 2, 3, 4, 5 or 6.<br>But if you think of the weight of your dog, you would have something like 17,841Kg.<br>\n",
    "Your dog don't come from 17Kg to 18Kg as a \"jump\". His weights <u>continuously</u> grows from 17 to 18. This is a continuous variable!"
   ]
  },
  {
   "cell_type": "code",
   "execution_count": 7,
   "metadata": {},
   "outputs": [
    {
     "data": {
      "text/plain": [
       "2"
      ]
     },
     "execution_count": 7,
     "metadata": {},
     "output_type": "execute_result"
    }
   ],
   "source": [
    "env.action_space.sample() #Calls a random possible movement of the snake, an integer between 0 and 4."
   ]
  },
  {
   "cell_type": "markdown",
   "metadata": {},
   "source": [
    "Now that we know what to send to the environment, we want our movement to be taken into consideration. For this, we will call the **env.step()** function.<br>\n",
    "It returns the following information:<br>\n",
    "- <u>Observation:</u> This is how the environment looks after your action. It allows you to track the movement of your snake. The observation is given when you execute a step and when you call *env.reset()*\n",
    "- <u>reward:</u> The reward acquired in the last action. Did your snake eat the red dot ? If yes, this is a reward.\n",
    "- <u>done:</u> Can you still play ? If your snake ate his tail or ran in the cliff... your game is finished. This is shown by a done set to True.\n",
    "- <u>info:</u> Any additionnal information given by the environment."
   ]
  },
  {
   "cell_type": "code",
   "execution_count": 8,
   "metadata": {},
   "outputs": [
    {
     "data": {
      "text/plain": [
       "(array([[  0.,   0.,   0.,   0.,   0.,   0.,   0.,   0.,   0.,   0.,   0.,\n",
       "           0.,   0.,   0.,   0.,   0.],\n",
       "        [  0.,   0.,   0.,   0.,   0.,   0.,   0.,   0.,   0.,   0.,   0.,\n",
       "           0.,   0.,   0.,   0.,   0.],\n",
       "        [  0.,   0.,   0.,   0.,   0.,   0.,   0.,   0.,   0.,   0., 255.,\n",
       "           0.,   0.,   0.,   0.,   0.],\n",
       "        [  0.,   0.,   0.,   0.,   0.,   0.,   0.,   0.,   0.,   0.,   0.,\n",
       "           0.,   0.,   0.,   0.,   0.],\n",
       "        [  0.,   0.,   0.,   0.,   0.,   0.,   0.,   0.,   0.,   0.,   0.,\n",
       "           0.,   0.,   0.,   0.,   0.],\n",
       "        [  0.,   0.,   0.,   0.,   0.,   0.,   0.,   0.,   0.,   0.,   0.,\n",
       "           0.,   0.,   0.,   0.,   0.],\n",
       "        [  0.,   0.,   0.,   0.,   0.,   0.,   0.,   0.,   0.,   0.,   0.,\n",
       "         101.,   0.,   0.,   0.,   0.],\n",
       "        [  0.,   0.,   0.,   0.,   0.,   0.,   0.,   0.,   0., 100., 100.,\n",
       "         100.,   0.,   0.,   0.,   0.],\n",
       "        [  0.,   0.,   0.,   0.,   0.,   0.,   0.,   0.,   0.,   0.,   0.,\n",
       "           0.,   0.,   0.,   0.,   0.],\n",
       "        [  0.,   0.,   0.,   0.,   0.,   0.,   0.,   0.,   0.,   0.,   0.,\n",
       "           0.,   0.,   0.,   0.,   0.],\n",
       "        [  0.,   0.,   0.,   0.,   0.,   0.,   0.,   0.,   0.,   0.,   0.,\n",
       "           0.,   0.,   0.,   0.,   0.],\n",
       "        [  0.,   0.,   0.,   0.,   0.,   0.,   0.,   0.,   0.,   0.,   0.,\n",
       "           0.,   0.,   0.,   0.,   0.],\n",
       "        [  0.,   0.,   0.,   0.,   0.,   0.,   0.,   0.,   0.,   0.,   0.,\n",
       "           0.,   0.,   0.,   0.,   0.],\n",
       "        [  0.,   0.,   0.,   0.,   0.,   0.,   0.,   0.,   0.,   0.,   0.,\n",
       "           0.,   0.,   0.,   0.,   0.],\n",
       "        [  0.,   0.,   0.,   0.,   0.,   0.,   0.,   0.,   0.,   0.,   0.,\n",
       "           0.,   0.,   0.,   0.,   0.],\n",
       "        [  0.,   0.,   0.,   0.,   0.,   0.,   0.,   0.,   0.,   0.,   0.,\n",
       "           0.,   0.,   0.,   0.,   0.]]), 0, False, {})"
      ]
     },
     "execution_count": 8,
     "metadata": {},
     "output_type": "execute_result"
    }
   ],
   "source": [
    "env.step(env.action_space.sample())"
   ]
  },
  {
   "cell_type": "markdown",
   "metadata": {},
   "source": [
    "If you look at your opened window, you will see the black point did not move. It is because we need to call the env.render() to get an update."
   ]
  },
  {
   "cell_type": "code",
   "execution_count": 9,
   "metadata": {},
   "outputs": [
    {
     "name": "stdout",
     "output_type": "stream",
     "text": [
      "(array([[  0.,   0.,   0.,   0.,   0.,   0.,   0.,   0.,   0.,   0.,   0.,\n",
      "          0.,   0.,   0.,   0.,   0.],\n",
      "       [  0.,   0.,   0.,   0.,   0.,   0.,   0.,   0.,   0.,   0.,   0.,\n",
      "          0.,   0.,   0.,   0.,   0.],\n",
      "       [  0.,   0.,   0.,   0.,   0.,   0.,   0.,   0.,   0.,   0.,   0.,\n",
      "          0.,   0.,   0.,   0.,   0.],\n",
      "       [  0.,   0.,   0.,   0.,   0.,   0.,   0.,   0.,   0.,   0.,   0.,\n",
      "          0.,   0.,   0.,   0.,   0.],\n",
      "       [  0.,   0.,   0.,   0.,   0.,   0.,   0.,   0.,   0.,   0.,   0.,\n",
      "          0.,   0.,   0.,   0.,   0.],\n",
      "       [  0.,   0.,   0.,   0.,   0., 101.,   0.,   0.,   0.,   0.,   0.,\n",
      "          0.,   0.,   0.,   0.,   0.],\n",
      "       [  0.,   0.,   0.,   0.,   0., 100.,   0.,   0.,   0.,   0.,   0.,\n",
      "          0.,   0.,   0.,   0.,   0.],\n",
      "       [  0.,   0.,   0.,   0.,   0., 100.,   0.,   0.,   0.,   0.,   0.,\n",
      "          0.,   0.,   0.,   0.,   0.],\n",
      "       [  0.,   0.,   0.,   0.,   0., 100.,   0.,   0.,   0.,   0.,   0.,\n",
      "          0.,   0.,   0.,   0.,   0.],\n",
      "       [  0.,   0.,   0.,   0.,   0.,   0.,   0.,   0.,   0.,   0.,   0.,\n",
      "          0.,   0.,   0.,   0.,   0.],\n",
      "       [  0.,   0.,   0.,   0.,   0.,   0.,   0.,   0.,   0.,   0.,   0.,\n",
      "          0.,   0., 255.,   0.,   0.],\n",
      "       [  0.,   0.,   0.,   0.,   0.,   0.,   0.,   0.,   0.,   0.,   0.,\n",
      "          0.,   0.,   0.,   0.,   0.],\n",
      "       [  0.,   0.,   0.,   0.,   0.,   0.,   0.,   0.,   0.,   0.,   0.,\n",
      "          0.,   0.,   0.,   0.,   0.],\n",
      "       [  0.,   0.,   0.,   0.,   0.,   0.,   0.,   0.,   0.,   0.,   0.,\n",
      "          0.,   0.,   0.,   0.,   0.],\n",
      "       [  0.,   0.,   0.,   0.,   0.,   0.,   0.,   0.,   0.,   0.,   0.,\n",
      "          0.,   0.,   0.,   0.,   0.],\n",
      "       [  0.,   0.,   0.,   0.,   0.,   0.,   0.,   0.,   0.,   0.,   0.,\n",
      "          0.,   0.,   0.,   0.,   0.]]), 0, False, {})\n"
     ]
    }
   ],
   "source": [
    "env.reset();\n",
    "print(env.step(env.action_space.sample()))\n",
    "env.render();"
   ]
  },
  {
   "cell_type": "markdown",
   "metadata": {},
   "source": [
    "As you can see, the env.step() function returns a full matrice a observation.<br>\n",
    "- 0 means you have nothing on the cell\n",
    "- 255 is the food\n",
    "- 101 is the head of the snake\n",
    "- 100 is the tail of the snake<br><br>"
   ]
  },
  {
   "cell_type": "code",
   "execution_count": 10,
   "metadata": {},
   "outputs": [],
   "source": [
    "#Generally, each 4 values are extracted as follow:\n",
    "observation, reward, done, info = env.step(env.action_space.sample())"
   ]
  },
  {
   "cell_type": "markdown",
   "metadata": {},
   "source": [
    "Now that we understand how Gym works we will start working on the neural network."
   ]
  },
  {
   "cell_type": "markdown",
   "metadata": {},
   "source": [
    "# The Neural network\n",
    "## Data flow\n",
    "\n",
    "When you enter in this new chapter, you should have already the basics of our building blocs from this <a href=\"https://github.com/alexandrelefourner/neural_networks_tutorial/blob/master/1.%20Neural%20Network%20principles%20exercices.ipynb\" target=\"_blank\">previous tutorial</a>. If not, I hardly recommend you to get a look at it.<br>\n",
    "<br>\n",
    "<br>\n",
    "From what we saw with the gym environment, we need to select 1 out of 4 different numbers.\n",
    "<br>This means our neural network will have 4 output neurons : One neuron for each decision.<br>\n",
    "\n",
    "<center><img src=\"ipynb_images/neural_network_1.jpg\"></img></center><br><br>\n",
    "\n",
    "We feed the observation (each pixel) at the entrance of the neural network.<br>\n",
    "Next, the information of the observation flows among the different layer of the neural network, up to the output layer.<br>\n",
    "The neuron which lights at the end makes the decision to move the snake.<br><br>\n",
    "\n",
    "## Genetic Algorithm Principles\n",
    "\n",
    "Now that we understand how a decision wil be made to move the snake, we need to find out how to optimize this decision.<br>\n",
    "For this, we will use a particular approach called _Genetic Algorithm_ which is based on evolution.<br>\n",
    "The idea is to run an import number of simulations of similar networks. Once the simulation finished, we will check which network performed at best. Let's image 4 different networks:\n",
    "- N1 got a score of -4\n",
    "- N2 got a score of 31\n",
    "- N3 got a score of 2\n",
    "- N4 got a score of 10\n",
    "\n",
    "We will take the best neural network (N2) and slightly modify it in multiple new versions (N2'1, N2'2, N2'3,...).<br><br>\n",
    "This modification leads to a second generation of networks (N2').<br><br>\n",
    "Being different, the networks may give different scores. We run new simulations and check the results:<br>\n",
    "- N2'1 got a score of 32\n",
    "- N2'2 got a score of 20\n",
    "- N2'3 got a score of -2\n",
    "- N2'4 got a score of 35\n",
    "\n",
    "\n",
    "We take N2'4 to breed a new genertion and check again the results:<br>\n",
    "- N2'4'1 got a score of 17\n",
    "- N2'4'2 got a score of 60\n",
    "- N2'4'3 got a score of 41\n",
    "- N2'4'4 got a score of 28\n",
    "\n",
    "N2'4'3 got the best result. We use it for next generation, etc...<br><br>\n",
    "Progressively, we expect our networks to find the best structure to answer our problem.<br>\n",
    "Let's create the first building block of our networks."
   ]
  },
  {
   "cell_type": "markdown",
   "metadata": {},
   "source": [
    "## Neural Network Skeleton & Forward pass"
   ]
  },
  {
   "cell_type": "code",
   "execution_count": 11,
   "metadata": {},
   "outputs": [
    {
     "data": {
      "text/plain": [
       "Box(16, 16)"
      ]
     },
     "execution_count": 11,
     "metadata": {},
     "output_type": "execute_result"
    }
   ],
   "source": [
    "env.observation_space #We check the structure of the observation space."
   ]
  },
  {
   "cell_type": "markdown",
   "metadata": {},
   "source": [
    "The input to give is a table of 16x16, as we saw previously.<br>\n",
    "We will see in the future specific architecture which look at pixel and their surrouding, using <u>convolution</u>. For now however, we are not going to go that deep yet. Let's make it simple!<br>\n",
    "We will consider each pixel separetely and flatten our representation :<br><br>\n",
    "\n",
    "\n",
    "<center><img src=\"ipynb_images/flattening.jpg\"></img></center><br><br>"
   ]
  },
  {
   "cell_type": "code",
   "execution_count": 12,
   "metadata": {},
   "outputs": [],
   "source": [
    "import numpy as np #We will use numpy to speed up calculation."
   ]
  },
  {
   "cell_type": "markdown",
   "metadata": {},
   "source": [
    "Numpy is a python library based on C. This makes the calculations faster.<br>"
   ]
  },
  {
   "cell_type": "code",
   "execution_count": 13,
   "metadata": {},
   "outputs": [],
   "source": [
    "class NeuralNetwork():\n",
    "    def __init__(self): #Called when the model is created.\n",
    "        self._layers = [] #We create a list which will contain all our layers information\n",
    "        self._outputs = np.ones(4) #We create the output neurons of our neural network.\n",
    "\n",
    "    def forward(self, inputs):#Called when the model must make a prediction.\n",
    "        inputs = inputs.reshape(-1) #We create a 16x16 table and flatten it.\n",
    "                                     #each cell of this table will be a neuron.\n",
    "        pass\n",
    "    \n",
    "    def mutate(self):#Called when the model is selected to breed a new generation.\n",
    "        pass"
   ]
  },
  {
   "cell_type": "markdown",
   "metadata": {},
   "source": [
    "We now have the skeleton of our neural network.<br>\n",
    "To calculate the dataflow, we could simply multiply each neuron separately... but this would be very long. Numpy helps us to do it faster through matrix multiplications. There is a complete video I made about this <a href=\"https://www.youtube.com/watch?v=RnbVW8ObWls\" target=\"_blank\">here</a> but you can find a summary:<br>\n",
    "Imagine you have a neural network of 2 layers : 5 input neurons, 2 output neurons.<br><br>\n",
    "<center><img src=\"ipynb_images/neural_network_2.jpg\"></img></center><br><br>\n",
    "For each neuron of the second layer, you need to multiply each 5 neurons by their weights and sum them.\n",
    "This makes 10 different multiplication and 10 more additions.<br>\n",
    "\n",
    "No1 = Ni1\\*$W_{1}^{1}$ + Ni2\\*$W_{1}^{2}$ + Ni3\\*$W_{1}^{3}$ + Ni4\\*$W_{1}^{4}$ + Ni5\\*$W_{1}^{5}$<br>\n",
    "No2 = Ni1\\*$W_{2}^{1}$ + Ni2\\*$W_{2}^{2}$ + Ni3\\*$W_{2}^{3}$ + Ni4\\*$W_{2}^{4}$ + Ni5\\*$W_{2}^{5}$<br>\n",
    "\n",
    "Lucky for us, the multiplication can be done in parallel, which means through parallelization, we can be up to 10 times faster when computing each layer.<br>\n",
    "<br>\n",
    "We need for this to compute through matrix multiplications. The value of our input is stored in a matrice (here, a vector because we only have 1 dimension) and the weights in a second matrice.<br>\n",
    "By multiplying both, we are able to get our neurons value.<br><br>\n",
    "<center><img src=\"ipynb_images/matmul.jpg\"></img></center><br><br>"
   ]
  },
  {
   "cell_type": "code",
   "execution_count": 14,
   "metadata": {},
   "outputs": [
    {
     "data": {
      "text/plain": [
       "array([[0],\n",
       "       [1],\n",
       "       [2],\n",
       "       [3],\n",
       "       [4]])"
      ]
     },
     "execution_count": 14,
     "metadata": {},
     "output_type": "execute_result"
    }
   ],
   "source": [
    "input_layer = np.arange(5).reshape((5,1)) #We create the matrice NiX\n",
    "input_layer"
   ]
  },
  {
   "cell_type": "code",
   "execution_count": 15,
   "metadata": {},
   "outputs": [
    {
     "data": {
      "text/plain": [
       "array([[0, 1, 2, 3, 4],\n",
       "       [5, 6, 7, 8, 9]])"
      ]
     },
     "execution_count": 15,
     "metadata": {},
     "output_type": "execute_result"
    }
   ],
   "source": [
    "weights_layer = np.arange(10).reshape((2,5)) #We generate the weights\n",
    "weights_layer"
   ]
  },
  {
   "cell_type": "code",
   "execution_count": 16,
   "metadata": {},
   "outputs": [
    {
     "data": {
      "text/plain": [
       "array([[30],\n",
       "       [80]])"
      ]
     },
     "execution_count": 16,
     "metadata": {},
     "output_type": "execute_result"
    }
   ],
   "source": [
    "output_layer = np.matmul(weights_layer,input_layer) #We calculate the multiplication\n",
    "output_layer"
   ]
  },
  {
   "cell_type": "markdown",
   "metadata": {},
   "source": [
    "Our forward pass will use matrices multiplications. Therefore, we can edit our neural network to match this idea. "
   ]
  },
  {
   "cell_type": "code",
   "execution_count": 17,
   "metadata": {},
   "outputs": [],
   "source": [
    "def activate(layer): #the neuron equals 1 if the sum is superior equal to 1.\n",
    "                    #Otherwise, it's 0.\n",
    "    return np.where(layer >= 1, 1, 0)\n",
    "\n",
    "class NeuralNetwork():\n",
    "    def __init__(self):\n",
    "        self._layers = []\n",
    "        self._outputs = np.ones(4)\n",
    "\n",
    "    def forward(self, inputs):\n",
    "        inputs = inputs.reshape((-1,1)) #Please note that we reshape with (-1,1) to have it as a matrice.\n",
    "                                        #Having at least 2 dimensions is required for numpy to calculate matmul.\n",
    "        \n",
    "        for layer in self._layers: #We iterate through each layer.\n",
    "            #layer contain the weights of the layer.\n",
    "            #if we multiply them by the inputs, we get the value of the second layer\n",
    "            #(we will need to activate them, but let's get to this after!)\n",
    "            \n",
    "            inputs = np.matmul(layer,inputs) #inputs now contains the value of the layer.\n",
    "                                            #This layer will be used as input for the next layer.\n",
    "            inputs = activate(inputs) #We don't forget to active the value!\n",
    "        \n",
    "        #inputs now contains the value of the last layer.\n",
    "        #We perform the matrix multiplication based on our self.output\n",
    "        \n",
    "        #With the actual code... it would not work, because our self._outputs is not a matrice.\n",
    "        #but we will fix it in the next cells.\n",
    "        \n",
    "        output_layer = np.matmul(self._outputs, inputs) \n",
    "        \n",
    "        return activate(output_layer)\n",
    "    \n",
    "    def mutate(self):\n",
    "        pass"
   ]
  },
  {
   "cell_type": "markdown",
   "metadata": {},
   "source": [
    "The code is getting closer and closer to what we want... however, we have a multiple problems yet:\n",
    "- The code does not contain any layer and thus, it cannot work (but we will work on that later!)\n",
    "- Since the network only fires 0 and 1... what to do if 2 neurons of the output layer fire ?\n",
    "\n",
    "If the network says \"go up\" and \"go down\" at the same time, we could randomly take one... But this points another problem we did not touch yet : Continuous and discrete space.<br><br>\n",
    "Up to now, we built the blocks by getting inspired with the biological system. The rule of the \"all or none\" : A neuron fires an electric impulse, or it does not.<br>\n",
    "<br>\n",
    "If we want to make a decision however, we are not always \"100% sure\" of something. We base our decisions on a part of uncertainety:<br>\n",
    "- \"I am not totally sure I can jump to this high\"\n",
    "- \"I may be able to gain a few minute if I drive through this road\"\n",
    "\n",
    "All of this mean means \"part of me think it might be possible, but another don't...\". To base my decision, I inconsciently measure what part think it might succeed and what part think it might fail. Sometimes, we are even unable to make a choice : we know we don't have enough information to make a rational decision.<br>\n",
    "This is this idea of uncertainety that we will develop in the next part."
   ]
  },
  {
   "cell_type": "markdown",
   "metadata": {},
   "source": [
    "## Continuous Activation function\n",
    "\n",
    "Remember when we discussed about the threshold ?... Well, here comes our problem. if we plot our current activation functon, we will get something like this :"
   ]
  },
  {
   "cell_type": "code",
   "execution_count": 18,
   "metadata": {},
   "outputs": [],
   "source": [
    "import matplotlib.pyplot as plt\n",
    "\n",
    "space = np.arange(-3, 3, 0.02)\n",
    "activated = np.where(space >=1, 1, 0)\n",
    "plt.plot(space,space, color = \"blue\");\n",
    "plt.plot(space,activated, color = \"orange\");\n",
    "plt.title(\"Neuron value in blue, once activate in orange (all or none)\")\n",
    "plt.axvline(0, color=\"red\", alpha = 0.2);\n",
    "plt.axhline(0, color=\"red\", alpha = 0.2);"
   ]
  },
  {
   "cell_type": "code",
   "execution_count": 19,
   "metadata": {
    "scrolled": true
   },
   "outputs": [
    {
     "data": {
      "image/png": "[encoded data removed]",
      "text/plain": [
       "<Figure size 432x288 with 1 Axes>"
      ]
     },
     "metadata": {
      "needs_background": "light"
     },
     "output_type": "display_data"
    }
   ],
   "source": [
    "activated = np.where(space >=1, 1, np.where(space <0, 0, space))\n",
    "plt.plot(space,space, color = \"blue\");\n",
    "plt.plot(space,activated, color = \"orange\");\n",
    "plt.title(\"Continuous activation between 0 and 1\")\n",
    "plt.axvline(0, color=\"red\", alpha = 0.2);\n",
    "plt.axhline(0, color=\"red\", alpha = 0.2);"
   ]
  },
  {
   "cell_type": "markdown",
   "metadata": {},
   "source": [
    "This activation function is better than the previous, because we now have a continuous activation.<br>\n",
    "They are a vast number of activation, that you can find below. We will detail them more and see why they are so important in the next chapters."
   ]
  },
  {
   "cell_type": "code",
   "execution_count": 20,
   "metadata": {
    "scrolled": true
   },
   "outputs": [
    {
     "data": {
      "image/png": "[encoded data removed]",
      "text/plain": [
       "<Figure size 432x288 with 1 Axes>"
      ]
     },
     "metadata": {
      "needs_background": "light"
     },
     "output_type": "display_data"
    },
    {
     "data": {
      "image/png": "[encoded data removed]",
      "text/plain": [
       "<Figure size 432x288 with 1 Axes>"
      ]
     },
     "metadata": {
      "needs_background": "light"
     },
     "output_type": "display_data"
    },
    {
     "data": {
      "image/png": "[encoded data removed]",
      "text/plain": [
       "<Figure size 432x288 with 1 Axes>"
      ]
     },
     "metadata": {
      "needs_background": "light"
     },
     "output_type": "display_data"
    },
    {
     "data": {
      "image/png": "[encoded data removed]",
      "text/plain": [
       "<Figure size 432x288 with 1 Axes>"
      ]
     },
     "metadata": {
      "needs_background": "light"
     },
     "output_type": "display_data"
    }
   ],
   "source": [
    "from lexml import lexmlcourses\n",
    "lexmlcourses.display_activations_functions();"
   ]
  },
  {
   "cell_type": "markdown",
   "metadata": {},
   "source": [
    "Our activation function tried to contrain the flow between 0 and 1. However, it does not give possibility to have values in between.<br>\n",
    "Instead, we may use something which takes all values between 0 and 1, but reduce all values more than 1 to 1 and everything negative to 0.<br>\n",
    "During this project, we will use sigmoid at the end of each layer. The idea behind is to keep some information from each gate, even if it is not that much.<br>\n",
    "<br>\n",
    "But what about our final layer ?... Even if the probability to get the same value for 2 neurons is inferior with sigmoid than it was with the All-or-None gate; we may prefere specific activation function, like <a href=\"https://en.wikipedia.org/wiki/Softmax_function\">Softmax</a>.<br><br>\n",
    "\n",
    "<center><img src=\"ipynb_images/softmaxfunction.jpg\"></img></center><br><br>\n",
    "\n",
    "If you did not do too much calculus in school Softmax may seem a bit complicated at first, but don't worry, it is not.<br>\n",
    "If you have to remember one thing : If I activate all neurons of a layer with softmax, the sum of their activation will be 1.<br>\n",
    "In genetic algorithm, we may not find a huge difference in performance compared to sigmoid.<br>\n",
    "In the next chapter however, you will see more its efficiency.<br>"
   ]
  },
  {
   "cell_type": "code",
   "execution_count": 21,
   "metadata": {},
   "outputs": [],
   "source": [
    "def sigmoid_activate(layer): #Sigmoid function\n",
    "    return 1/(1+np.exp(-layer))\n",
    "\n",
    "\n",
    "def softmax_activate(layer): #Softmax function\n",
    "    m = np.exp(layer)\n",
    "    return m/m.sum()"
   ]
  },
  {
   "cell_type": "code",
   "execution_count": 22,
   "metadata": {},
   "outputs": [],
   "source": [
    "class NeuralNetwork():\n",
    "    def __init__(self):\n",
    "        self._layers = []\n",
    "        self._outputs = np.ones(4)\n",
    "\n",
    "    def forward(self, inputs):\n",
    "        inputs = inputs.reshape((-1,1))\n",
    "        \n",
    "        for layer in self._layers:\n",
    "            inputs = np.matmul(layer,inputs)\n",
    "            inputs = sigmoid_activate(inputs) #Updated to sigmoid\n",
    "        \n",
    "        output_layer = np.matmul(self._outputs, inputs)\n",
    "            #Does not take into account the different size of the matrix.\n",
    "            #We will fix it soon!\n",
    "        \n",
    "        return softmax_activate(output_layer)#Updated to softmax\n",
    "        \n",
    "\n",
    "    def mutate(self):\n",
    "        pass"
   ]
  },
  {
   "cell_type": "markdown",
   "metadata": {},
   "source": [
    "## Finishing the forward pass\n",
    "Up to now, we created a skeleton which can forward the data through different layers.<br>\n",
    "We will now prepare the intialization of our neural networks.<br>\n",
    "For this, we will initialize a certain number of layers with a certain size, but also adding the biases.<br>"
   ]
  },
  {
   "cell_type": "code",
   "execution_count": 25,
   "metadata": {},
   "outputs": [],
   "source": [
    "nb_layers = 3 #We set up 3 hidden layers.\n",
    "neurons = 25 #Neurons per layers"
   ]
  },
  {
   "cell_type": "code",
   "execution_count": 31,
   "metadata": {},
   "outputs": [],
   "source": [
    "class NeuralNetwork():\n",
    "    def __init__(self, observation_size): #We specify the observation\n",
    "        self._layers = []\n",
    "        self._biases = [] #we implement the biases\n",
    "        \n",
    "        for i in range(nb_layers):\n",
    "            entry_size = neurons if i != 0 else observation_size #First layer must match the input layer.\n",
    "                                                                #Remember : The input layer is all the map, flattened.\n",
    "            \n",
    "            #our weights values will be from -1 to 1.\n",
    "            self._layers.append(np.random.rand(neurons,entry_size)*2-1) #we initialize random values\n",
    "            self._biases.append(np.random.rand(neurons, 1)*2-1) #we initialize random values.\n",
    "        \n",
    "\n",
    "        self._outputs = np.random.rand(4,neurons)*2-1 #Output layer must contain a total of 4 cells.\n",
    "        #We don't add it into self._layers because we want to activate it with a softmax.\n",
    "\n",
    "\n",
    "    def forward(self, inputs):\n",
    "        inputs = inputs.reshape((-1,1))\n",
    "        \n",
    "\n",
    "        for layer, bias in zip(self._layers, self._biases): #we zip the biases to the layer\n",
    "            inputs = np.matmul(layer,inputs)\n",
    "            inputs = inputs+bias\n",
    "            inputs = sigmoid_activate(inputs)\n",
    "            \n",
    "        inputs = np.matmul(self._outputs, inputs) #(4,1)\n",
    "        inputs = inputs.reshape(-1) #Just a vector of 4 elements.\n",
    "        \n",
    "        \n",
    "        return softmax_activate(inputs)#Updated to softmax\n",
    "\n",
    "    def mutate(self):\n",
    "        pass"
   ]
  },
  {
   "cell_type": "code",
   "execution_count": 32,
   "metadata": {},
   "outputs": [
    {
     "name": "stdout",
     "output_type": "stream",
     "text": [
      "list of decision: [0.00714822 0.05383172 0.05771648 0.88130358]\n",
      "Decision taken: 3\n"
     ]
    }
   ],
   "source": [
    "#Let's test our forward pass\n",
    "obs_size = env.observation_space.shape[0] * env.observation_space.shape[1]\n",
    "Sample = NeuralNetwork(obs_size) #Creating a new agen.\n",
    "\n",
    "#random observation\n",
    "obs = np.random.rand(obs_size)\n",
    "\n",
    "choice = Sample.forward(obs)\n",
    "print(\"list of decision:\",choice)\n",
    "print(\"Decision taken:\",choice.argmax())"
   ]
  },
  {
   "cell_type": "markdown",
   "metadata": {},
   "source": [
    "We successly implemented the forward pass!\n",
    "Our agent is now able to take a decision based on the input we provide."
   ]
  },
  {
   "cell_type": "markdown",
   "metadata": {},
   "source": [
    "## First simulation\n",
    "\n",
    "Now that our agent can take a decision, we will generate an environment for it to run."
   ]
  },
  {
   "cell_type": "code",
   "execution_count": 33,
   "metadata": {},
   "outputs": [],
   "source": [
    "import time #used to wait between each frame.\n",
    "\n",
    "observation = env.reset()#We get the first element of the game.\n",
    "env.render() #We render it.\n",
    "\n",
    "done = False #While not True, the simulation runs.\n",
    "\n",
    "time.sleep(2) #We want to wait 2 seconds to have the time to see the beginning of the simulation.\n",
    "\n",
    "while(not done):\n",
    "    observation, reward, done, info = env.step(Sample.forward(observation).argmax()) #We exectue an action.\n",
    "    env.render() #We tell gym we want to render.\n",
    "    time.sleep(0.1) #Used for rendering."
   ]
  },
  {
   "cell_type": "markdown",
   "metadata": {},
   "source": [
    "Well... The snake moves but rush toward the cliff. Our Artificial Intelligence does not show too much intelligence... and it's normal. Its behavior is totally made through randomness.<br>\n",
    "\n"
   ]
  }
 ],
 "metadata": {
  "kernelspec": {
   "display_name": "Python 3",
   "language": "python",
   "name": "python3"
  },
  "language_info": {
   "codemirror_mode": {
    "name": "ipython",
    "version": 3
   },
   "file_extension": ".py",
   "mimetype": "text/x-python",
   "name": "python",
   "nbconvert_exporter": "python",
   "pygments_lexer": "ipython3",
   "version": "3.6.8"
  }
 },
 "nbformat": 4,
 "nbformat_minor": 2
}
