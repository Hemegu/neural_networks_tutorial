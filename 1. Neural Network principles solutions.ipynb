{
 "cells": [
  {
   "cell_type": "markdown",
   "metadata": {},
   "source": [
    "# Neural Network Principles\n",
    "\n",
    "Hello and welcome in the notebook about neural network principles.<br>\n",
    "Its purpose is to detail step by step how a neural network works.<br><br>\n",
    "If you get stucked, don't hesitate to look <a href=\"https://www.youtube.com/watch?v=XJu-ZzE3sUo&list=PL_mqLx7AmDzeG5kXYbhllIaLiZIALla3P\">the video</a> before checking the solution before checking the solution"
   ]
  },
  {
   "cell_type": "code",
   "execution_count": 1,
   "metadata": {},
   "outputs": [],
   "source": [
    "from lexml.lexmlexercices import *"
   ]
  },
  {
   "cell_type": "code",
   "execution_count": 2,
   "metadata": {},
   "outputs": [
    {
     "name": "stdout",
     "output_type": "stream",
     "text": [
      "Well done!\n"
     ]
    }
   ],
   "source": [
    "def activate(entry):\n",
    "    #TODO : Write a function which returns 1 if the threshold of 1 is passed. Else, return 0.\n",
    "    if(entry >= 1):\n",
    "        return 1\n",
    "    return 0\n",
    "test_activation(activate)"
   ]
  },
  {
   "cell_type": "code",
   "execution_count": 3,
   "metadata": {
    "scrolled": true
   },
   "outputs": [
    {
     "name": "stdout",
     "output_type": "stream",
     "text": [
      "0 & 0 -> 0 Ok\n",
      "0 & 1 -> 1 Ok\n",
      "1 & 0 -> 1 Ok\n",
      "1 & 1 -> 1 Ok\n",
      "Well done!\n"
     ]
    }
   ],
   "source": [
    "def or_gate(entry_1, entry_2):\n",
    "    #TODO: Determine the weights of each neuron to create a gate\n",
    "    #      which is active if either one or the other entry fires an impulse.\n",
    "    weight_neuron_1 = 1\n",
    "    weight_neuron_2 = 1\n",
    "    \n",
    "    su = entry_1 * weight_neuron_1 + entry_2 * weight_neuron_2\n",
    "\n",
    "    return activate(su)\n",
    "test_or_gate(or_gate)"
   ]
  },
  {
   "cell_type": "code",
   "execution_count": 4,
   "metadata": {},
   "outputs": [
    {
     "name": "stdout",
     "output_type": "stream",
     "text": [
      "0 & 0 -> 0 Ok\n",
      "0 & 1 -> 0 Ok\n",
      "1 & 0 -> 0 Ok\n",
      "1 & 1 -> 1 Ok\n",
      "Well done!\n"
     ]
    }
   ],
   "source": [
    "def and_gate(entry_1, entry_2):\n",
    "    #TODO: Determine the weights of each neuron to create a gate\n",
    "    #      which is active if both entries fires an impulse.\n",
    "    \n",
    "    weight_neuron_1 = 0.5\n",
    "    weight_neuron_2 = 0.5\n",
    "    \n",
    "    su = entry_1 * weight_neuron_1 + entry_2 * weight_neuron_2\n",
    "    \n",
    "    return activate(su)\n",
    "test_and_gate(and_gate)"
   ]
  },
  {
   "cell_type": "code",
   "execution_count": 5,
   "metadata": {
    "scrolled": true
   },
   "outputs": [
    {
     "name": "stdout",
     "output_type": "stream",
     "text": [
      "0 & 0 -> 0 Ok\n",
      "0 & 1 -> 1 Ok\n",
      "1 & 0 -> 1 Ok\n",
      "1 & 1 -> 0 Ok\n",
      "Well done!\n"
     ]
    }
   ],
   "source": [
    "def xor_gate_pure_neuron(entry_1, entry_2):\n",
    "    #TODO: Using your previous work, create a gate which activates\n",
    "    #when entry_1 or entry_2 fires an impulse, but not both at the same time.\n",
    "    \n",
    "    #Tips : Use the output of the and_gate and or_gate as input.\n",
    "    \n",
    "    w_and = -1\n",
    "    w_or = 1\n",
    "\n",
    "    return w_and * and_gate(entry_1, entry_2) + w_or * or_gate(entry_1, entry_2)\n",
    "test_xor_gate(xor_gate_pure_neuron)"
   ]
  },
  {
   "cell_type": "markdown",
   "metadata": {},
   "source": [
    "## Not logic operation\n",
    "\n",
    "Switching a 0 to 1 and 1 to 0 is also a very common operation. It is refered as the Not gate.\n",
    "Let's create one in the following cell."
   ]
  },
  {
   "cell_type": "code",
   "execution_count": 6,
   "metadata": {},
   "outputs": [
    {
     "name": "stdout",
     "output_type": "stream",
     "text": [
      "Well done!\n"
     ]
    }
   ],
   "source": [
    "def not_gate(entry):\n",
    "    #TODO: Considering the code written for your Activate() function, create a gate which gives\n",
    "    #0 if the entry passes the threshold of 1.\n",
    "    #1 in the other case\n",
    "    if(entry >= 1):\n",
    "        return 0\n",
    "    return 1\n",
    "test_not_gate(not_gate)"
   ]
  },
  {
   "cell_type": "code",
   "execution_count": 7,
   "metadata": {},
   "outputs": [
    {
     "name": "stdout",
     "output_type": "stream",
     "text": [
      "0 & 0 -> 1 Ok\n",
      "0 & 1 -> 1 Ok\n",
      "1 & 0 -> 1 Ok\n",
      "1 & 1 -> 0 Ok\n",
      "Well done!\n"
     ]
    }
   ],
   "source": [
    "def nand_gate(entry_1, entry_2):\n",
    "    #TODO: Create a gate which returns 1, except when both entry fires an impulse.\n",
    "    \n",
    "    #Tips : You can use former created function.\n",
    "    \n",
    "    return not_gate(and_gate(entry_1, entry_2))\n",
    "test_nand_gate(nand_gate)"
   ]
  },
  {
   "cell_type": "markdown",
   "metadata": {},
   "source": [
    "## Dynamic vs pure weights\n",
    "\n",
    "In the last example, you saw how you can change the activation to change the gate. If you want a neural network to perform this, it means you will have a dynamic structure, where the way neurons are working will be chaged.<br>\n",
    "<br>\n",
    "This strategy is used in specific algorithm, called Genetic Algorithm.<br>\n",
    "<br>\n",
    "However, most recent algorithm try to avoid it, for speed purpose. Their objective is to only focus on changing the weights of each neurons.<br>\n",
    "<br>\n",
    "In the following examples, try to find the weights of neurons, __but keep the Activate gate__.<br>\n",
    "<br>\n",
    "If you need, look at the video."
   ]
  },
  {
   "cell_type": "code",
   "execution_count": 8,
   "metadata": {},
   "outputs": [
    {
     "name": "stdout",
     "output_type": "stream",
     "text": [
      "0 & 0 -> 1 Ok\n",
      "0 & 1 -> 1 Ok\n",
      "1 & 0 -> 1 Ok\n",
      "1 & 1 -> 0 Ok\n",
      "Well done!\n"
     ]
    }
   ],
   "source": [
    "def nand_gate_pure_neuron(entry_1, entry_2):\n",
    "    #TODO: Recreate the nand gate, but without using the not_gate function you created.\n",
    "    \n",
    "    w_and = -1\n",
    "    w_bias = 1\n",
    "    \n",
    "    return w_and*(and_gate(entry_1, entry_2))+1*w_bias\n",
    "test_nand_gate(nand_gate_pure_neuron)"
   ]
  },
  {
   "cell_type": "code",
   "execution_count": 9,
   "metadata": {},
   "outputs": [
    {
     "name": "stdout",
     "output_type": "stream",
     "text": [
      "0 & 0 -> 1 Ok\n",
      "0 & 1 -> 0 Ok\n",
      "1 & 0 -> 0 Ok\n",
      "1 & 1 -> 0 Ok\n",
      "Well done!\n"
     ]
    }
   ],
   "source": [
    "def nor_gate_pure_neuron(entry_1, entry_2):\n",
    "    #TODO: without the not_gate, create a gate which gives 1\n",
    "    #Except when a neuron fires.\n",
    "    w_or = -1\n",
    "    return w_or*(or_gate(entry_1, entry_2))+1\n",
    "test_nor_gate(nor_gate_pure_neuron)"
   ]
  },
  {
   "cell_type": "code",
   "execution_count": 10,
   "metadata": {},
   "outputs": [
    {
     "name": "stdout",
     "output_type": "stream",
     "text": [
      "0 & 0 -> 1 Ok\n",
      "0 & 1 -> 0 Ok\n",
      "1 & 0 -> 0 Ok\n",
      "1 & 1 -> 1 Ok\n",
      "Well done!\n"
     ]
    }
   ],
   "source": [
    "def xnor_gate_pure_neuron(entry_1, entry_2):\n",
    "    #TODO: without the not_gate, create a gate which gives 1\n",
    "    #Except when a neuron fires.\n",
    "    w_or = -1\n",
    "    return w_or*(xor_gate_pure_neuron(entry_1, entry_2))+1\n",
    "test_xnor_gate(xnor_gate_pure_neuron)"
   ]
  },
  {
   "cell_type": "code",
   "execution_count": null,
   "metadata": {},
   "outputs": [],
   "source": []
  }
 ],
 "metadata": {
  "kernelspec": {
   "display_name": "Python 3",
   "language": "python",
   "name": "python3"
  },
  "language_info": {
   "codemirror_mode": {
    "name": "ipython",
    "version": 3
   },
   "file_extension": ".py",
   "mimetype": "text/x-python",
   "name": "python",
   "nbconvert_exporter": "python",
   "pygments_lexer": "ipython3",
   "version": "3.6.8"
  }
 },
 "nbformat": 4,
 "nbformat_minor": 2
}
